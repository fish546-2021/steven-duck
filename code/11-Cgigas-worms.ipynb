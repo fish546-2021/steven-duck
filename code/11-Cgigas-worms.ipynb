{
 "cells": [
  {
   "cell_type": "markdown",
   "metadata": {},
   "source": [
    "![worm](http://gannet.fish.washington.edu/seashell/snaps/WormBase__Nematode_Information_Resource_2021-01-27_15-32-40.png)"
   ]
  },
  {
   "cell_type": "code",
   "execution_count": 2,
   "metadata": {},
   "outputs": [
    {
     "name": "stdout",
     "output_type": "stream",
     "text": [
      "../blastdb/c_elegans.PRJEB28388.WS279.protein.fa\n",
      "../blastdb/c_elegans.PRJNA13758.WS279.protein.fa\n"
     ]
    }
   ],
   "source": [
    "!ls ../blastdb/c*fa"
   ]
  },
  {
   "cell_type": "code",
   "execution_count": 4,
   "metadata": {},
   "outputs": [
    {
     "name": "stdout",
     "output_type": "stream",
     "text": [
      "==> ../blastdb/c_elegans.PRJEB28388.WS279.protein.fa <==\n",
      "MSSRPPSGNHKPSKPTGHPSSGASELDSTAEPSPHERRMDSQRASSGSDIHGHPSSGSQS\n",
      "RNLTSAQSGGRNAHKDLHERHVHPSQGYQRHGSKAPAHGHPSSQGARRSQHELSNFPILL\n",
      "ANLMQDTKATASASCASNQDTLQPTASTMSDGEPEEDKVKLCGNRLEVGVTDNLAGTQRR\n",
      "KEQQQLQGAQAKKQQAPQRDVNRKANHQKLSRKRRYAPYKDDVTGAIICGDHLHPYLLLN\n",
      "CNHLLLLLFGHP\n",
      ">chrX_pilon.g21070 transcript=chrX_pilon.g21070 gene=chrX_pilon.g21070\n",
      "MIKVIFHLVSAVLYAAVCYRDTTIVTGALLPIPYQTWSRFVWLTIIDLYMQLLYHTIGFI\n",
      "LAVVSPNKRHIIFDYWARALTGPIGVAVTVLFWGLFLFDPATLARDEMAMKILTLFWFNH\n",
      "GLHTLPAITAHLDLAIYNHTSFSTSAILKGIAVFVTLYLIDLHYVFYTSGFWAYPILGEL\n",
      "AAPFRLVFIAACMFIVYLGYVWLSFLGALVHGVEKPKNKKRN\n",
      "\n",
      "==> ../blastdb/c_elegans.PRJNA13758.WS279.protein.fa <==\n",
      ">cTel55X.1a wormpep=CE19652 gene=WBGene00007068 status=Confirmed uniprot=A4F305 insdc=CCD61146.1\n",
      "MIKVIFHLVSAVLYAAVCYRDTTIVTGALLPIPYQTWSRFVWLTIIDLYMQLLYHTIGFI\n",
      "LAVVSPNKRHIIFDYWARALTGPIGVAVTVLFWGLFLFDPATLARDEMAMKILTLFWFNH\n",
      "GLHTLPAITAHLDLAIYNHTSFSTSAILKGIAVFVTLYLIDLHYVFYTSGFWAYPILGEL\n",
      "AAPFRLVFIAACMFIVYLGYVWLSFLGALVHGVEKPKNKKRN\n",
      ">cTel55X.1b wormpep=CE26787 gene=WBGene00007068 status=Confirmed uniprot=H2KY55 insdc=CCD61147.1\n",
      "MIKVIFHLVSAVLYAAVCYRDTTIVTGALLPIPYQTWSRFVWLTIIDLYMQLLYHTIGFI\n",
      "LAVVSPNKRHIIFDYWARALTGPIGVAVTVLFWGLFLFDPATLARDEMAMKILTLFWFNH\n",
      "GLHTLPAITAHLDLAIYNHTSFSTSAILKGIAVFVTLYLIDFQPPLRLLHFWLLGVPDSR\n",
      "RTCRTIPPCVHCCLHVHCLPRLRVAIFPRCPRARSRETKEQKKKLKYLFCCGF\n"
     ]
    }
   ],
   "source": [
    "!tail ../blastdb/c*fa"
   ]
  },
  {
   "cell_type": "code",
   "execution_count": null,
   "metadata": {},
   "outputs": [],
   "source": []
  },
  {
   "cell_type": "code",
   "execution_count": 7,
   "metadata": {},
   "outputs": [],
   "source": [
    "#setting blast program directory\n",
    "bldir = \"/Applications/bioinfo/ncbi-blast-2.11.0+/bin/\""
   ]
  },
  {
   "cell_type": "code",
   "execution_count": 8,
   "metadata": {},
   "outputs": [
    {
     "name": "stdout",
     "output_type": "stream",
     "text": [
      "\n",
      "\n",
      "Building a new DB, current time: 01/29/2021 13:54:36\n",
      "New DB name:   /Users/sr320/Documents/GitHub/steven-duck/blastdb/c_elegans.PRJNA13758.WS279.protein\n",
      "New DB title:  ../blastdb/c_elegans.PRJNA13758.WS279.protein.fa\n",
      "Sequence type: Protein\n",
      "Keep MBits: T\n",
      "Maximum file size: 1000000000B\n",
      "Adding sequences from FASTA; added 28353 sequences in 1.65566 seconds.\n",
      "\n",
      "\n"
     ]
    }
   ],
   "source": [
    "!{bldir}makeblastdb \\\n",
    "-in ../blastdb/c_elegans.PRJNA13758.WS279.protein.fa \\\n",
    "-dbtype prot \\\n",
    "-out ../blastdb/c_elegans.PRJNA13758.WS279.protein"
   ]
  },
  {
   "cell_type": "code",
   "execution_count": null,
   "metadata": {},
   "outputs": [],
   "source": [
    "!{bldir}blastx \\\n",
    "-query ../data/GCF_000297895.1_oyster_v9_cds_from_genomic.fna \\\n",
    "-db ../blastdb/c_elegans.PRJNA13758.WS279.protein  \\\n",
    "-out ../analyses/Cg-c_elRRJ_blastx.tab \\\n",
    "-evalue 1E-20 \\\n",
    "-num_threads 2 \\\n",
    "-max_target_seqs 1 \\\n",
    "-outfmt 6"
   ]
  }
 ],
 "metadata": {
  "kernelspec": {
   "display_name": "Python 3",
   "language": "python",
   "name": "python3"
  },
  "language_info": {
   "codemirror_mode": {
    "name": "ipython",
    "version": 3
   },
   "file_extension": ".py",
   "mimetype": "text/x-python",
   "name": "python",
   "nbconvert_exporter": "python",
   "pygments_lexer": "ipython3",
   "version": "3.8.3"
  }
 },
 "nbformat": 4,
 "nbformat_minor": 4
}
