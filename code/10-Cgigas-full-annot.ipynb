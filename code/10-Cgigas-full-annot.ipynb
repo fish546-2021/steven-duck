{
 "cells": [
  {
   "cell_type": "markdown",
   "metadata": {},
   "source": [
    "# Deep annotation of oyster genes"
   ]
  },
  {
   "cell_type": "markdown",
   "metadata": {},
   "source": [
    "see also https://github.com/RobertsLab/resources/issues/969"
   ]
  },
  {
   "cell_type": "markdown",
   "metadata": {},
   "source": [
    "What has been  done"
   ]
  },
  {
   "cell_type": "code",
   "execution_count": 3,
   "metadata": {},
   "outputs": [
    {
     "name": "stdout",
     "output_type": "stream",
     "text": [
      "LOC_seqID_key.tab bestblast.tab\n"
     ]
    }
   ],
   "source": [
    "!ls ../data/bestblast_/"
   ]
  },
  {
   "cell_type": "code",
   "execution_count": 4,
   "metadata": {},
   "outputs": [
    {
     "name": "stdout",
     "output_type": "stream",
     "text": [
      "lcl|NW_011934501.1_cds_XP_011426503.1_1\tLOC105317034\n",
      "lcl|NW_011934501.1_cds_XP_011434216.1_2\tLOC105317034\n",
      "lcl|NW_011934501.1_cds_XP_011445785.1_3\tLOC105338483\n",
      "lcl|NW_011934505.1_cds_XP_019917900.1_4\tLOC105346508\n",
      "lcl|NW_011934507.1_cds_XP_011423156.1_5\tLOC105322465\n",
      "lcl|NW_011934512.1_cds_XP_011426108.1_6\tLOC105327114\n",
      "lcl|NW_011934514.1_cds_XP_011427256.2_7\tLOC105327903\n",
      "lcl|NW_011934516.1_cds_XP_011428421.2_8\tLOC105328737\n",
      "lcl|NW_011934516.1_cds_XP_019923453.1_9\tLOC105328737\n",
      "lcl|NW_011934516.1_cds_XP_019923670.1_10\tLOC105328737\n"
     ]
    }
   ],
   "source": [
    "!head ../data/bestblast_/LOC_seqID_key.tab"
   ]
  },
  {
   "cell_type": "code",
   "execution_count": 5,
   "metadata": {},
   "outputs": [
    {
     "name": "stdout",
     "output_type": "stream",
     "text": [
      "ID\tBlastType\tSeqLength\tHitAcc\tHitDesc\tScore\tE-Value\tPercentIdent\tQueryStart\tQueryEnd\tHitStart\tHitEnd\n",
      "lcl|NC_001276.1_cds_NP_037544.2_46742\tBLASTX1\t876\tNP_037544.2\tcytochrome c oxidase subunit III [Crassostrea gigas]\u0001ACD35413.1 cytochrome c oxidase subunit 3 [Crassostrea gigas]\u0001AIM52189.1 cytochrome c oxidase subunit 3 [Crassostrea gigas]\u0001AIM52202.1 cytochrome c oxidase subunit 3 [Crassostrea gigas]\u0001AIM52215.1 cytochrome c oxidase subunit 3 [Crassostrea gigas]\u0001AIM52228.1 cytochrome c oxidase subunit 3 [Crassostrea gigas]\t1227\t5e-168\t267/291 (91%)\t1\t873\t1\t291\n",
      "lcl|NC_001276.1_cds_NP_037545.1_46743\tBLASTX1\t1119\tNP_037545.1\tcytochrome b [Crassostrea gigas]\u0001AAF20043.1 cytochrome b [Crassostrea gigas]\t1637\t0.0\t345/372 (92%)\t1\t1116\t1\t372\n",
      "lcl|NC_001276.1_cds_NP_037546.1_46744\tBLASTX1\t702\tNP_037546.1\tcytochrome c oxidase subunit II [Crassostrea gigas]\u0001YP_002860213.1 cytochrome c oxidase subunit II [Crassostrea angulata]\u0001YP_002860225.1 cytochrome c oxidase subunit II [Crassostrea sikamea]\u0001AAF20044.1 cytochrome oxidase subunit 2 [Crassostrea gigas]\u0001ACD35415.1 cytochrome c oxidase subunit 2 [Crassostrea gigas]\u0001ACD35427.1 cytochrome c oxidase subunit 2 [Crassostrea angulata]\u0001ACD35439.1 cytochrome c oxidase subunit 2 [Crassostrea sikamea]\u0001ACO40194.1 cytochrome c oxidase subunit 2 [Crassostrea angulata]\t1004\t4e-136\t214/233 (91%)\t1\t699\t1\t233\n",
      "lcl|NC_001276.1_cds_NP_037547.1_46745\tBLASTX1\t693\tNP_037547.1\tATP synthase F0 subunit 6 [Crassostrea gigas]\u0001AAF20045.1 ATPase subunit 6 [Crassostrea gigas]\t1072\t2e-146\t209/230 (90%)\t1\t690\t1\t230\n",
      "lcl|NC_001276.1_cds_NP_037548.1_46746\tBLASTX1\t999\tNP_037548.1\tNADH dehydrogenase subunit 2 [Crassostrea gigas]\u0001AAF20046.1 NADH dehydrogenase 2 [Crassostrea gigas]\t1563\t0.0\t302/332 (90%)\t1\t996\t1\t332\n",
      "lcl|NC_001276.1_cds_NP_037549.2_46747\tBLASTX1\t1353\tAAF20047.1\tNADH dehydrogenase 4 [Crassostrea gigas]\t1982\t0.0\t412/450 (91%)\t1\t1350\t2\t451\n",
      "lcl|NC_001276.1_cds_NP_037550.2_46748\tBLASTX1\t1671\tNP_037550.2\tNADH dehydrogenase subunit 5 [Crassostrea gigas]\t2436\t0.0\t517/556 (92%)\t1\t1668\t1\t556\n",
      "lcl|NC_001276.1_cds_NP_037551.1_46749\tBLASTX1\t477\tNP_037551.1\tNADH dehydrogenase subunit 6 [Crassostrea gigas]\u0001AAF20049.1 NADH dehydrogenase 6 [Crassostrea gigas]\u0001ACD35420.1 NADH dehydrogenase subunit 6 [Crassostrea gigas]\u0001AIM52197.1 NADH dehydrogenase subunit 6 [Crassostrea gigas]\u0001AIM52210.1 NADH dehydrogenase subunit 6 [Crassostrea gigas]\u0001AIM52223.1 NADH dehydrogenase subunit 6 [Crassostrea gigas]\t681\t4e-89\t146/158 (92%)\t1\t474\t1\t158\n",
      "lcl|NC_001276.1_cds_NP_037552.1_46750\tBLASTX1\t351\tBAM44026.1\tNADH dehydrogenase subunit 3 [Crassostrea gigas]\t435\t4e-53\t106/116 (91%)\t1\t348\t1\t116\n"
     ]
    }
   ],
   "source": [
    "!head ../data/bestblast_/bestblast.tab"
   ]
  },
  {
   "cell_type": "markdown",
   "metadata": {},
   "source": [
    "## The fasta"
   ]
  },
  {
   "cell_type": "code",
   "execution_count": 7,
   "metadata": {},
   "outputs": [
    {
     "name": "stdout",
     "output_type": "stream",
     "text": [
      ">lcl|NW_011934501.1_cds_XP_011426503.1_1 [gene=LOC105317034] [db_xref=GeneID:105317034] [protein=molybdopterin synthase catalytic subunit] [protein_id=XP_011426503.1] [location=join(349..445,943..1093,1481..1604,1973..2038)] [gbkey=CDS]\n",
      "ATGGACTATATAGAAATCACAGATGAAATTCTTGATGTCAATAAAATATCACATATGGTAACAGACCCAAGTTGTGGAGC\n",
      "TATATCAATATTTGTTGGAATAACCAGAGACAATTTTGACGGTAAAAAGGTTTTGAGACTTGAATATGAAGCATATAAAC\n",
      "CTATGGCAAAAAAGAAGATGAAAGAAATATGTGATTCCATTCGTAAACAATGGGAGATACATAATATAGCCATGATTCAC\n",
      "AGAATTAATGTAGTCCCCATCTCTGAGGCCAGCATTGTTATTGCCATTTCTTCCCCTCATAGAAAGGAGTCACTACAGGC\n",
      "TGTGGAATATGCAATCGACACTCTAAAAGCCACAGTGCCCATCTGGAAAAAGGAAATTTATGCAGATGAGTCATCCAGCT\n",
      "GGAAGGAAAACAAAGAGTGTTCATGGAGTAAAAAGTGA\n",
      ">lcl|NW_011934501.1_cds_XP_011434216.1_2 [gene=LOC105317034] [db_xref=GeneID:105317034] [protein=molybdopterin synthase catalytic subunit] [protein_id=XP_011434216.1] [location=join(349..445,943..1093,1481..1604,1973..2038)] [gbkey=CDS]\n",
      "ATGGACTATATAGAAATCACAGATGAAATTCTTGATGTCAATAAAATATCACATATGGTAACAGACCCAAGTTGTGGAGC\n",
      "TATATCAATATTTGTTGGAATAACCAGAGACAATTTTGACGGTAAAAAGGTTTTGAGACTTGAATATGAAGCATATAAAC\n"
     ]
    }
   ],
   "source": [
    "!head ../data/GCF_000297895.1_oyster_v9_cds_from_genomic.fna"
   ]
  },
  {
   "cell_type": "code",
   "execution_count": 1,
   "metadata": {},
   "outputs": [],
   "source": [
    "#setting blast program directory\n",
    "bldir = \"/Applications/bioinfo/ncbi-blast-2.11.0+/bin/\"\n"
   ]
  },
  {
   "cell_type": "code",
   "execution_count": null,
   "metadata": {},
   "outputs": [
    {
     "name": "stdout",
     "output_type": "stream",
     "text": [
      "Warning: [blastx] Examining 5 or more matches is recommended\n"
     ]
    }
   ],
   "source": [
    "!{bldir}blastx \\\n",
    "-query ../data/GCF_000297895.1_oyster_v9_cds_from_genomic.fna \\\n",
    "-db ../blastdb/uniprot_sprot_2020_06  \\\n",
    "-out ../analyses/Cg-uniprot_blastx.tab \\\n",
    "-evalue 1E-20 \\\n",
    "-num_threads 3 \\\n",
    "-max_target_seqs 1 \\\n",
    "-outfmt 6"
   ]
  },
  {
   "cell_type": "code",
   "execution_count": null,
   "metadata": {},
   "outputs": [
    {
     "name": "stdout",
     "output_type": "stream",
     "text": [
      "Warning: [blastx] Examining 5 or more matches is recommended\n"
     ]
    }
   ],
   "source": [
    "!{bldir}blastx \\\n",
    "-query ../data/GCF_000297895.1_oyster_v9_cds_from_genomic.fna \\\n",
    "-db ../blastdb/uniprot_sprot_2020_06  \\\n",
    "-out ../analyses/Cg-uniprot_blastx_02.tab \\\n",
    "-evalue 1E-20 \\\n",
    "-num_threads 2 \\\n",
    "-max_target_seqs 1 \\\n",
    "-max_hsps 1 \\\n",
    "-outfmt 6"
   ]
  },
  {
   "cell_type": "code",
   "execution_count": 4,
   "metadata": {},
   "outputs": [
    {
     "name": "stdout",
     "output_type": "stream",
     "text": [
      "USAGE\n",
      "  blastx [-h] [-help] [-import_search_strategy filename]\n",
      "    [-export_search_strategy filename] [-task task_name] [-db database_name]\n",
      "    [-dbsize num_letters] [-gilist filename] [-seqidlist filename]\n",
      "    [-negative_gilist filename] [-negative_seqidlist filename]\n",
      "    [-taxids taxids] [-negative_taxids taxids] [-taxidlist filename]\n",
      "    [-negative_taxidlist filename] [-ipglist filename]\n",
      "    [-negative_ipglist filename] [-entrez_query entrez_query]\n",
      "    [-db_soft_mask filtering_algorithm] [-db_hard_mask filtering_algorithm]\n",
      "    [-subject subject_input_file] [-subject_loc range] [-query input_file]\n",
      "    [-out output_file] [-evalue evalue] [-word_size int_value]\n",
      "    [-gapopen open_penalty] [-gapextend extend_penalty]\n",
      "    [-qcov_hsp_perc float_value] [-max_hsps int_value]\n",
      "    [-xdrop_ungap float_value] [-xdrop_gap float_value]\n",
      "    [-xdrop_gap_final float_value] [-searchsp int_value]\n",
      "    [-sum_stats bool_value] [-max_intron_length length] [-seg SEG_options]\n",
      "    [-soft_masking soft_masking] [-matrix matrix_name]\n",
      "    [-threshold float_value] [-culling_limit int_value]\n",
      "    [-best_hit_overhang float_value] [-best_hit_score_edge float_value]\n",
      "    [-subject_besthit] [-window_size int_value] [-ungapped] [-lcase_masking]\n",
      "    [-query_loc range] [-strand strand] [-parse_deflines]\n",
      "    [-query_gencode int_value] [-outfmt format] [-show_gis]\n",
      "    [-num_descriptions int_value] [-num_alignments int_value]\n",
      "    [-line_length line_length] [-html] [-sorthits sort_hits]\n",
      "    [-sorthsps sort_hsps] [-max_target_seqs num_sequences]\n",
      "    [-num_threads int_value] [-remote] [-comp_based_stats compo]\n",
      "    [-use_sw_tback] [-version]\n",
      "\n",
      "DESCRIPTION\n",
      "   Translated Query-Protein Subject BLAST 2.11.0+\n",
      "\n",
      "OPTIONAL ARGUMENTS\n",
      " -h\n",
      "   Print USAGE and DESCRIPTION;  ignore all other parameters\n",
      " -help\n",
      "   Print USAGE, DESCRIPTION and ARGUMENTS; ignore all other parameters\n",
      " -version\n",
      "   Print version number;  ignore other arguments\n",
      "\n",
      " *** Input query options\n",
      " -query <File_In>\n",
      "   Input file name\n",
      "   Default = `-'\n",
      " -query_loc <String>\n",
      "   Location on the query sequence in 1-based offsets (Format: start-stop)\n",
      " -strand <String, `both', `minus', `plus'>\n",
      "   Query strand(s) to search against database/subject\n",
      "   Default = `both'\n",
      " -query_gencode <Integer, values between: 1-6, 9-16, 21-31, 33>\n",
      "   Genetic code to use to translate query (see\n",
      "   https://www.ncbi.nlm.nih.gov/Taxonomy/taxonomyhome.html/index.cgi?chapter=\n",
      "   cgencodes for details)\n",
      "   Default = `1'\n",
      "\n",
      " *** General search options\n",
      " -task <String, Permissible values: 'blastx' 'blastx-fast' >\n",
      "   Task to execute\n",
      "   Default = `blastx'\n",
      " -db <String>\n",
      "   BLAST database name\n",
      "    * Incompatible with:  subject, subject_loc\n",
      " -out <File_Out>\n",
      "   Output file name\n",
      "   Default = `-'\n",
      " -evalue <Real>\n",
      "   Expectation value (E) threshold for saving hits \n",
      "   Default = `10'\n",
      " -word_size <Integer, >=2>\n",
      "   Word size for wordfinder algorithm\n",
      " -gapopen <Integer>\n",
      "   Cost to open a gap\n",
      " -gapextend <Integer>\n",
      "   Cost to extend a gap\n",
      " -max_intron_length <Integer, >=0>\n",
      "   Length of the largest intron allowed in a translated nucleotide sequence\n",
      "   when linking multiple distinct alignments\n",
      "   Default = `0'\n",
      " -matrix <String>\n",
      "   Scoring matrix name (normally BLOSUM62)\n",
      " -threshold <Real, >=0>\n",
      "   Minimum word score such that the word is added to the BLAST lookup table\n",
      " -comp_based_stats <String>\n",
      "   Use composition-based statistics:\n",
      "       D or d: default (equivalent to 2 )\n",
      "       0 or F or f: No composition-based statistics\n",
      "       1: Composition-based statistics as in NAR 29:2994-3005, 2001\n",
      "       2 or T or t : Composition-based score adjustment as in Bioinformatics\n",
      "   21:902-911,\n",
      "       2005, conditioned on sequence properties\n",
      "       3: Composition-based score adjustment as in Bioinformatics 21:902-911,\n",
      "       2005, unconditionally\n",
      "   Default = `2'\n",
      "\n",
      " *** BLAST-2-Sequences options\n",
      " -subject <File_In>\n",
      "   Subject sequence(s) to search\n",
      "    * Incompatible with:  db, gilist, seqidlist, negative_gilist,\n",
      "   negative_seqidlist, taxids, taxidlist, negative_taxids, negative_taxidlist,\n",
      "   ipglist, negative_ipglist, db_soft_mask, db_hard_mask\n",
      " -subject_loc <String>\n",
      "   Location on the subject sequence in 1-based offsets (Format: start-stop)\n",
      "    * Incompatible with:  db, gilist, seqidlist, negative_gilist,\n",
      "   negative_seqidlist, taxids, taxidlist, negative_taxids, negative_taxidlist,\n",
      "   ipglist, negative_ipglist, db_soft_mask, db_hard_mask, remote\n",
      "\n",
      " *** Formatting options\n",
      " -outfmt <String>\n",
      "   alignment view options:\n",
      "     0 = Pairwise,\n",
      "     1 = Query-anchored showing identities,\n",
      "     2 = Query-anchored no identities,\n",
      "     3 = Flat query-anchored showing identities,\n",
      "     4 = Flat query-anchored no identities,\n",
      "     5 = BLAST XML,\n",
      "     6 = Tabular,\n",
      "     7 = Tabular with comment lines,\n",
      "     8 = Seqalign (Text ASN.1),\n",
      "     9 = Seqalign (Binary ASN.1),\n",
      "    10 = Comma-separated values,\n",
      "    11 = BLAST archive (ASN.1),\n",
      "    12 = Seqalign (JSON),\n",
      "    13 = Multiple-file BLAST JSON,\n",
      "    14 = Multiple-file BLAST XML2,\n",
      "    15 = Single-file BLAST JSON,\n",
      "    16 = Single-file BLAST XML2,\n",
      "    18 = Organism Report\n",
      "   \n",
      "   Options 6, 7 and 10 can be additionally configured to produce\n",
      "   a custom format specified by space delimited format specifiers,\n",
      "   or by a token specified by the delim keyword.\n",
      "    E.g.: \"10 delim=@ qacc sacc score\".\n",
      "   The delim keyword must appear after the numeric output format\n",
      "   specification.\n",
      "   The supported format specifiers are:\n",
      "   \t    qseqid means Query Seq-id\n",
      "   \t       qgi means Query GI\n",
      "   \t      qacc means Query accesion\n",
      "   \t   qaccver means Query accesion.version\n",
      "   \t      qlen means Query sequence length\n",
      "   \t    sseqid means Subject Seq-id\n",
      "   \t sallseqid means All subject Seq-id(s), separated by a ';'\n",
      "   \t       sgi means Subject GI\n",
      "   \t    sallgi means All subject GIs\n",
      "   \t      sacc means Subject accession\n",
      "   \t   saccver means Subject accession.version\n",
      "   \t   sallacc means All subject accessions\n",
      "   \t      slen means Subject sequence length\n",
      "   \t    qstart means Start of alignment in query\n",
      "   \t      qend means End of alignment in query\n",
      "   \t    sstart means Start of alignment in subject\n",
      "   \t      send means End of alignment in subject\n",
      "   \t      qseq means Aligned part of query sequence\n",
      "   \t      sseq means Aligned part of subject sequence\n",
      "   \t    evalue means Expect value\n",
      "   \t  bitscore means Bit score\n",
      "   \t     score means Raw score\n",
      "   \t    length means Alignment length\n",
      "   \t    pident means Percentage of identical matches\n",
      "   \t    nident means Number of identical matches\n",
      "   \t  mismatch means Number of mismatches\n",
      "   \t  positive means Number of positive-scoring matches\n",
      "   \t   gapopen means Number of gap openings\n",
      "   \t      gaps means Total number of gaps\n",
      "   \t      ppos means Percentage of positive-scoring matches\n",
      "   \t    frames means Query and subject frames separated by a '/'\n",
      "   \t    qframe means Query frame\n",
      "   \t    sframe means Subject frame\n",
      "   \t      btop means Blast traceback operations (BTOP)\n",
      "   \t    staxid means Subject Taxonomy ID\n",
      "   \t  ssciname means Subject Scientific Name\n",
      "   \t  scomname means Subject Common Name\n",
      "   \tsblastname means Subject Blast Name\n",
      "   \t sskingdom means Subject Super Kingdom\n",
      "   \t   staxids means unique Subject Taxonomy ID(s), separated by a ';'\n",
      "   \t\t\t (in numerical order)\n",
      "   \t sscinames means unique Subject Scientific Name(s), separated by a ';'\n",
      "   \t scomnames means unique Subject Common Name(s), separated by a ';'\n",
      "   \tsblastnames means unique Subject Blast Name(s), separated by a ';'\n",
      "   \t\t\t (in alphabetical order)\n",
      "   \tsskingdoms means unique Subject Super Kingdom(s), separated by a ';'\n",
      "   \t\t\t (in alphabetical order) \n",
      "   \t    stitle means Subject Title\n",
      "   \tsalltitles means All Subject Title(s), separated by a '<>'\n",
      "   \t   sstrand means Subject Strand\n",
      "   \t     qcovs means Query Coverage Per Subject\n",
      "   \t   qcovhsp means Query Coverage Per HSP\n",
      "   \t    qcovus means Query Coverage Per Unique Subject (blastn only)\n",
      "   When not provided, the default value is:\n",
      "   'qaccver saccver pident length mismatch gapopen qstart qend sstart send\n",
      "   evalue bitscore', which is equivalent to the keyword 'std'\n",
      "   Default = `0'\n",
      " -show_gis\n",
      "   Show NCBI GIs in deflines?\n",
      " -num_descriptions <Integer, >=0>\n",
      "   Number of database sequences to show one-line descriptions for\n",
      "   Not applicable for outfmt > 4\n",
      "   Default = `500'\n",
      "    * Incompatible with:  max_target_seqs\n",
      " -num_alignments <Integer, >=0>\n",
      "   Number of database sequences to show alignments for\n",
      "   Default = `250'\n",
      "    * Incompatible with:  max_target_seqs\n",
      " -line_length <Integer, >=1>\n",
      "   Line length for formatting alignments\n",
      "   Not applicable for outfmt > 4\n",
      "   Default = `60'\n",
      " -html\n",
      "   Produce HTML output?\n",
      " -sorthits <Integer, (>=0 and =<4)>\n",
      "   Sorting option for hits:\n",
      "   alignment view options:\n",
      "     0 = Sort by evalue,\n",
      "     1 = Sort by bit score,\n",
      "     2 = Sort by total score,\n",
      "     3 = Sort by percent identity,\n",
      "     4 = Sort by query coverage\n",
      "   Not applicable for outfmt > 4\n",
      " -sorthsps <Integer, (>=0 and =<4)>\n",
      "   Sorting option for hps:\n",
      "     0 = Sort by hsp evalue,\n",
      "     1 = Sort by hsp score,\n",
      "     2 = Sort by hsp query start,\n",
      "     3 = Sort by hsp percent identity,\n",
      "     4 = Sort by hsp subject start\n",
      "   Not applicable for outfmt != 0\n",
      "\n",
      " *** Query filtering options\n",
      " -seg <String>\n",
      "   Filter query sequence with SEG (Format: 'yes', 'window locut hicut', or\n",
      "   'no' to disable)\n",
      "   Default = `12 2.2 2.5'\n",
      " -soft_masking <Boolean>\n",
      "   Apply filtering locations as soft masks\n",
      "   Default = `false'\n",
      " -lcase_masking\n",
      "   Use lower case filtering in query and subject sequence(s)?\n",
      "\n",
      " *** Restrict search or results\n",
      " -gilist <String>\n",
      "   Restrict search of database to list of GIs\n",
      "    * Incompatible with:  seqidlist, taxids, taxidlist, negative_gilist,\n",
      "   negative_seqidlist, negative_taxids, negative_taxidlist, remote, subject,\n",
      "   subject_loc\n",
      " -seqidlist <String>\n",
      "   Restrict search of database to list of SeqIDs\n",
      "    * Incompatible with:  gilist, taxids, taxidlist, negative_gilist,\n",
      "   negative_seqidlist, negative_taxids, negative_taxidlist, remote, subject,\n",
      "   subject_loc\n",
      " -negative_gilist <String>\n",
      "   Restrict search of database to everything except the specified GIs\n",
      "    * Incompatible with:  gilist, seqidlist, taxids, taxidlist,\n",
      "   negative_seqidlist, negative_taxids, negative_taxidlist, remote, subject,\n",
      "   subject_loc\n",
      " -negative_seqidlist <String>\n",
      "   Restrict search of database to everything except the specified SeqIDs\n",
      "    * Incompatible with:  gilist, seqidlist, taxids, taxidlist,\n",
      "   negative_gilist, negative_taxids, negative_taxidlist, remote, subject,\n",
      "   subject_loc\n",
      " -taxids <String>\n",
      "   Restrict search of database to include only the specified taxonomy IDs\n",
      "   (multiple IDs delimited by ',')\n",
      "    * Incompatible with:  gilist, seqidlist, taxidlist, negative_gilist,\n",
      "   negative_seqidlist, negative_taxids, negative_taxidlist, remote, subject,\n",
      "   subject_loc\n",
      " -negative_taxids <String>\n",
      "   Restrict search of database to everything except the specified taxonomy IDs\n",
      "   (multiple IDs delimited by ',')\n",
      "    * Incompatible with:  gilist, seqidlist, taxids, taxidlist,\n",
      "   negative_gilist, negative_seqidlist, negative_taxidlist, remote, subject,\n",
      "   subject_loc\n",
      " -taxidlist <String>\n",
      "   Restrict search of database to include only the specified taxonomy IDs\n",
      "    * Incompatible with:  gilist, seqidlist, taxids, negative_gilist,\n",
      "   negative_seqidlist, negative_taxids, negative_taxidlist, remote, subject,\n",
      "   subject_loc\n",
      " -negative_taxidlist <String>\n",
      "   Restrict search of database to everything except the specified taxonomy IDs\n",
      "    * Incompatible with:  gilist, seqidlist, taxids, taxidlist,\n",
      "   negative_gilist, negative_seqidlist, negative_taxids, remote, subject,\n",
      "   subject_loc\n",
      " -ipglist <String>\n",
      "   Restrict search of database to list of IPGs\n",
      "    * Incompatible with:  subject, subject_loc\n",
      " -negative_ipglist <String>\n",
      "   Restrict search of database to everything except the specified IPGs\n",
      "    * Incompatible with:  subject, subject_loc\n",
      " -entrez_query <String>\n",
      "   Restrict search with the given Entrez query\n",
      "    * Requires:  remote\n",
      " -db_soft_mask <String>\n",
      "   Filtering algorithm ID to apply to the BLAST database as soft masking\n",
      "    * Incompatible with:  db_hard_mask, subject, subject_loc\n",
      " -db_hard_mask <String>\n",
      "   Filtering algorithm ID to apply to the BLAST database as hard masking\n",
      "    * Incompatible with:  db_soft_mask, subject, subject_loc\n",
      " -qcov_hsp_perc <Real, 0..100>\n",
      "   Percent query coverage per hsp\n",
      " -max_hsps <Integer, >=1>\n",
      "   Set maximum number of HSPs per subject sequence to save for each query\n",
      " -culling_limit <Integer, >=0>\n",
      "   If the query range of a hit is enveloped by that of at least this many\n",
      "   higher-scoring hits, delete the hit\n",
      "    * Incompatible with:  best_hit_overhang, best_hit_score_edge\n",
      " -best_hit_overhang <Real, (>0 and <0.5)>\n",
      "   Best Hit algorithm overhang value (recommended value: 0.1)\n",
      "    * Incompatible with:  culling_limit\n",
      " -best_hit_score_edge <Real, (>0 and <0.5)>\n",
      "   Best Hit algorithm score edge value (recommended value: 0.1)\n",
      "    * Incompatible with:  culling_limit\n",
      " -subject_besthit\n",
      "   Turn on best hit per subject sequence\n",
      " -max_target_seqs <Integer, >=1>\n",
      "   Maximum number of aligned sequences to keep \n",
      "   (value of 5 or more is recommended)\n",
      "   Default = `500'\n",
      "    * Incompatible with:  num_descriptions, num_alignments\n",
      "\n",
      " *** Statistical options\n",
      " -dbsize <Int8>\n",
      "   Effective length of the database \n",
      " -searchsp <Int8, >=0>\n",
      "   Effective length of the search space\n",
      " -sum_stats <Boolean>\n",
      "   Use sum statistics\n",
      "\n",
      " *** Search strategy options\n",
      " -import_search_strategy <File_In>\n",
      "   Search strategy to use\n",
      "    * Incompatible with:  export_search_strategy\n",
      " -export_search_strategy <File_Out>\n",
      "   File name to record the search strategy used\n",
      "    * Incompatible with:  import_search_strategy\n",
      "\n",
      " *** Extension options\n",
      " -xdrop_ungap <Real>\n",
      "   X-dropoff value (in bits) for ungapped extensions\n",
      " -xdrop_gap <Real>\n",
      "   X-dropoff value (in bits) for preliminary gapped extensions\n",
      " -xdrop_gap_final <Real>\n",
      "   X-dropoff value (in bits) for final gapped alignment\n",
      " -window_size <Integer, >=0>\n",
      "   Multiple hits window size, use 0 to specify 1-hit algorithm\n",
      " -ungapped\n",
      "   Perform ungapped alignment only?\n",
      "\n",
      " *** Miscellaneous options\n",
      " -parse_deflines\n",
      "   Should the query and subject defline(s) be parsed?\n",
      " -num_threads <Integer, >=1>\n",
      "   Number of threads (CPUs) to use in the BLAST search\n",
      "   Default = `1'\n",
      "    * Incompatible with:  remote\n",
      " -remote\n",
      "   Execute search remotely?\n",
      "    * Incompatible with:  gilist, seqidlist, taxids, taxidlist,\n",
      "   negative_gilist, negative_seqidlist, negative_taxids, negative_taxidlist,\n",
      "   subject_loc, num_threads\n",
      " -use_sw_tback\n",
      "   Compute locally optimal Smith-Waterman alignments?\n",
      "\n"
     ]
    }
   ],
   "source": [
    "!{bldir}blastx -help"
   ]
  },
  {
   "cell_type": "markdown",
   "metadata": {},
   "source": [
    "# Finding more databases"
   ]
  },
  {
   "cell_type": "markdown",
   "metadata": {},
   "source": [
    "C elegans, Drosophila, Sea urchin"
   ]
  },
  {
   "cell_type": "markdown",
   "metadata": {},
   "source": [
    "![echino](http://gannet.fish.washington.edu/seashell/snaps/Echinobase_Home_2021-01-27_15-23-59.png)"
   ]
  },
  {
   "cell_type": "code",
   "execution_count": null,
   "metadata": {},
   "outputs": [],
   "source": [
    "ProteinsSpur5.0"
   ]
  },
  {
   "cell_type": "code",
   "execution_count": 2,
   "metadata": {},
   "outputs": [
    {
     "name": "stdout",
     "output_type": "stream",
     "text": [
      "Warning: [blastx] Examining 5 or more matches is recommended\n"
     ]
    }
   ],
   "source": [
    "!{bldir}blastx \\\n",
    "-query ../data/GCF_000297895.1_oyster_v9_cds_from_genomic.fna \\\n",
    "-db ../blastdb/ProteinsSpur5.0/ProteinsSpur5.0  \\\n",
    "-out ../analyses/Cg-ProteinsSpur5.0_blastx.tab \\\n",
    "-evalue 1E-20 \\\n",
    "-num_threads 2 \\\n",
    "-max_target_seqs 1 \\\n",
    "-outfmt 6"
   ]
  },
  {
   "cell_type": "code",
   "execution_count": null,
   "metadata": {},
   "outputs": [],
   "source": []
  }
 ],
 "metadata": {
  "kernelspec": {
   "display_name": "Python 3",
   "language": "python",
   "name": "python3"
  },
  "language_info": {
   "codemirror_mode": {
    "name": "ipython",
    "version": 3
   },
   "file_extension": ".py",
   "mimetype": "text/x-python",
   "name": "python",
   "nbconvert_exporter": "python",
   "pygments_lexer": "ipython3",
   "version": "3.8.3"
  }
 },
 "nbformat": 4,
 "nbformat_minor": 4
}
