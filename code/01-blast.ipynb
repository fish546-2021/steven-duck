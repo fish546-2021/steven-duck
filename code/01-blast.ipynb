{
 "cells": [
  {
   "cell_type": "markdown",
   "metadata": {},
   "source": [
    "# Lets have a blast"
   ]
  },
  {
   "cell_type": "code",
   "execution_count": 2,
   "metadata": {},
   "outputs": [
    {
     "name": "stdout",
     "output_type": "stream",
     "text": [
      "/Users/sr320/Documents/GitHub/steven-duck/code\n"
     ]
    }
   ],
   "source": [
    "cd code/"
   ]
  },
  {
   "cell_type": "code",
   "execution_count": 1,
   "metadata": {},
   "outputs": [
    {
     "data": {
      "text/plain": [
       "'/Users/sr320/Documents/GitHub/steven-duck/code'"
      ]
     },
     "execution_count": 1,
     "metadata": {},
     "output_type": "execute_result"
    }
   ],
   "source": [
    "pwd"
   ]
  },
  {
   "cell_type": "markdown",
   "metadata": {},
   "source": [
    "# Get Query"
   ]
  },
  {
   "cell_type": "code",
   "execution_count": 5,
   "metadata": {},
   "outputs": [
    {
     "name": "stdout",
     "output_type": "stream",
     "text": [
      "  % Total    % Received % Xferd  Average Speed   Time    Time     Time  Current\n",
      "                                 Dload  Upload   Total   Spent    Left  Speed\n",
      "100 1982k  100 1982k    0     0   294k      0  0:00:06  0:00:06 --:--:--  306k\n"
     ]
    }
   ],
   "source": [
    "!curl https://eagle.fish.washington.edu/cnidarian/Ab_4denovo_CLC6_a.fa \\\n",
    "> ../data/Ab_4denovo_CLC6_a.fa    "
   ]
  },
  {
   "cell_type": "code",
   "execution_count": 6,
   "metadata": {},
   "outputs": [
    {
     "name": "stdout",
     "output_type": "stream",
     "text": [
      "Ab_4denovo_CLC6_a.fa\n"
     ]
    }
   ],
   "source": [
    "!ls ../data/"
   ]
  },
  {
   "cell_type": "code",
   "execution_count": 7,
   "metadata": {},
   "outputs": [
    {
     "name": "stdout",
     "output_type": "stream",
     "text": [
      ">solid0078_20110412_FRAG_BC_WHITE_WHITE_F3_QV_SE_trimmed_contig_1\n",
      "ACACCCCACCCCAACGCACCCTCACCCCCACCCCAACAATCCATGATTGAATACTTCATC\n",
      "TATCCAAGACAAACTCCTCCTACAATCCATGATAGAATTCCTCCAAAAATAATTTCACAC\n",
      "TGAAACTCCGGTATCCGAGTTATTTTGTTCCCAGTAAAATGGCATCAACAAAAGTAGGTC\n",
      "TGGATTAACGAACCAATGTTGCTGCGTAATATCCCATTGACATATCTTGTCGATTCCTAC\n",
      "CAGGATCCGGACTGACGAGATTTCACTGTACGTTTATGCAAGTCATTTCCATATATAAAA\n",
      "TTGGATCTTATTTGCACAGTTAAATGTCTCTATGCTTATTTATAAATCAATGCCCGTAAG\n",
      "CTCCTAATATTTCTCTTTTCGTCCGACGAGCAAACAGTGAGTTTACTGTGGCCTTCAGCA\n",
      "AAAGTATTGATGTTGTAAATCTCAGTTGTGATTGAACAATTTGCCTCACTAGAAGTAGCC\n",
      "TTC\n"
     ]
    }
   ],
   "source": [
    "!head ../data/Ab_4denovo_CLC6_a.fa"
   ]
  },
  {
   "cell_type": "markdown",
   "metadata": {},
   "source": [
    "# Get Protein fasta to create blast database"
   ]
  },
  {
   "cell_type": "code",
   "execution_count": 8,
   "metadata": {},
   "outputs": [
    {
     "name": "stdout",
     "output_type": "stream",
     "text": [
      "  % Total    % Received % Xferd  Average Speed   Time    Time     Time  Current\n",
      "                                 Dload  Upload   Total   Spent    Left  Speed\n",
      "100 85.6M  100 85.6M    0     0   466k      0  0:03:07  0:03:07 --:--:--  714k4k:47  0:01:05  0:02:42 1115k  0  0:03:28  0:01:07  0:02:21 1482k0k     0  0:02:59  0:01:15  0:01:44  839k02:47  0:01:20  0:01:27 1053k\n"
     ]
    }
   ],
   "source": [
    "!curl \\\n",
    "ftp://ftp.uniprot.org/pub/databases/uniprot/current_release/knowledgebase/complete/uniprot_sprot.fasta.gz \\\n",
    "> ../blastdb/uniprot_sprot.fasta.gz"
   ]
  },
  {
   "cell_type": "code",
   "execution_count": 9,
   "metadata": {},
   "outputs": [],
   "source": [
    "!gunzip -k ../blastdb/uniprot_sprot.fasta.gz"
   ]
  },
  {
   "cell_type": "code",
   "execution_count": 10,
   "metadata": {},
   "outputs": [
    {
     "name": "stdout",
     "output_type": "stream",
     "text": [
      "uniprot_sprot.fasta    uniprot_sprot.fasta.gz\n"
     ]
    }
   ],
   "source": [
    "!ls ../blastdb/"
   ]
  },
  {
   "cell_type": "markdown",
   "metadata": {},
   "source": [
    "# Install Blastx"
   ]
  },
  {
   "cell_type": "code",
   "execution_count": 11,
   "metadata": {},
   "outputs": [
    {
     "name": "stdout",
     "output_type": "stream",
     "text": [
      "  % Total    % Received % Xferd  Average Speed   Time    Time     Time  Current\n",
      "                                 Dload  Upload   Total   Spent    Left  Speed\n",
      "100  139M  100  139M    0     0   971k      0  0:02:26  0:02:26 --:--:--  780k40  0:00:55  0:02:45  377kk      0  0:02:48  0:01:24  0:01:24 1137k     0  0:02:42  0:01:31  0:01:11 1400kM    0     0   952k      0  0:02:29  0:01:54  0:00:35 1422k  967k      0  0:02:27  0:01:58  0:00:29 1416k:25  0:02:02  0:00:23 1284kk      0  0:02:23  0:02:15  0:00:08 1468k\n"
     ]
    }
   ],
   "source": [
    "!curl https://ftp.ncbi.nlm.nih.gov/blast/executables/blast+/LATEST/ncbi-blast-2.11.0+-x64-macosx.tar.gz \\\n",
    "> /Applications/bioinfo/ncbi-blast-2.11.0+-x64-macosx.tar.gz"
   ]
  },
  {
   "cell_type": "code",
   "execution_count": 12,
   "metadata": {},
   "outputs": [
    {
     "name": "stdout",
     "output_type": "stream",
     "text": [
      "\u001b[31mblast_formatter\u001b[m\u001b[m            \u001b[31mlegacy_blast.pl\u001b[m\u001b[m\n",
      "\u001b[31mblastdb_aliastool\u001b[m\u001b[m          \u001b[31mmakeblastdb\u001b[m\u001b[m\n",
      "\u001b[31mblastdbcheck\u001b[m\u001b[m               \u001b[31mmakembindex\u001b[m\u001b[m\n",
      "\u001b[31mblastdbcmd\u001b[m\u001b[m                 \u001b[31mmakeprofiledb\u001b[m\u001b[m\n",
      "\u001b[31mblastn\u001b[m\u001b[m                     \u001b[31mpsiblast\u001b[m\u001b[m\n",
      "\u001b[31mblastp\u001b[m\u001b[m                     \u001b[31mrpsblast\u001b[m\u001b[m\n",
      "\u001b[31mblastx\u001b[m\u001b[m                     \u001b[31mrpstblastn\u001b[m\u001b[m\n",
      "\u001b[31mcleanup-blastdb-volumes.py\u001b[m\u001b[m \u001b[31msegmasker\u001b[m\u001b[m\n",
      "\u001b[31mconvert2blastmask\u001b[m\u001b[m          \u001b[31mtblastn\u001b[m\u001b[m\n",
      "\u001b[31mdeltablast\u001b[m\u001b[m                 \u001b[31mtblastx\u001b[m\u001b[m\n",
      "\u001b[31mdustmasker\u001b[m\u001b[m                 \u001b[31mupdate_blastdb.pl\u001b[m\u001b[m\n",
      "\u001b[31mget_species_taxids.sh\u001b[m\u001b[m      \u001b[31mwindowmasker\u001b[m\u001b[m\n"
     ]
    }
   ],
   "source": [
    "!ls /Applications/bioinfo/ncbi-blast-2.11.0+/bin"
   ]
  },
  {
   "cell_type": "code",
   "execution_count": 13,
   "metadata": {},
   "outputs": [],
   "source": [
    "#setting blast program directory\n",
    "bldir = \"/Applications/bioinfo/ncbi-blast-2.11.0+/bin/\"\n"
   ]
  },
  {
   "cell_type": "code",
   "execution_count": null,
   "metadata": {},
   "outputs": [],
   "source": []
  },
  {
   "cell_type": "markdown",
   "metadata": {},
   "source": [
    "# Make Blast database from protein sequences"
   ]
  },
  {
   "cell_type": "code",
   "execution_count": 14,
   "metadata": {},
   "outputs": [
    {
     "name": "stdout",
     "output_type": "stream",
     "text": [
      "\n",
      "\n",
      "Building a new DB, current time: 01/22/2021 10:00:14\n",
      "New DB name:   /Users/sr320/Documents/GitHub/steven-duck/blastdb/uniprot_sprot_2020_06\n",
      "New DB title:  ../blastdb/uniprot_sprot.fasta\n",
      "Sequence type: Protein\n",
      "Keep MBits: T\n",
      "Maximum file size: 1000000000B\n",
      "Adding sequences from FASTA; added 563972 sequences in 32.3002 seconds.\n",
      "\n",
      "\n"
     ]
    }
   ],
   "source": [
    "!{bldir}makeblastdb \\\n",
    "-in ../blastdb/uniprot_sprot.fasta \\\n",
    "-dbtype prot \\\n",
    "-out ../blastdb/uniprot_sprot_2020_06"
   ]
  },
  {
   "cell_type": "markdown",
   "metadata": {},
   "source": [
    "# run Blastx"
   ]
  },
  {
   "cell_type": "code",
   "execution_count": 15,
   "metadata": {},
   "outputs": [
    {
     "name": "stdout",
     "output_type": "stream",
     "text": [
      "Warning: [blastx] Examining 5 or more matches is recommended\n"
     ]
    }
   ],
   "source": [
    "!{bldir}blastx \\\n",
    "-query ../data/Ab_4denovo_CLC6_a.fa \\\n",
    "-db ../blastdb/uniprot_sprot_2020_06  \\\n",
    "-out ../analyses/Ab_4-uniprot_blastx.tab \\\n",
    "-evalue 1E-20 \\\n",
    "-num_threads 3 \\\n",
    "-max_target_seqs 1 \\\n",
    "-outfmt 6"
   ]
  },
  {
   "cell_type": "code",
   "execution_count": 2,
   "metadata": {},
   "outputs": [
    {
     "name": "stdout",
     "output_type": "stream",
     "text": [
      "     764 ../analyses/Ab_4-uniprot_blastx.tab\n"
     ]
    }
   ],
   "source": [
    "!wc -l ../analyses/Ab_4-uniprot_blastx.tab"
   ]
  },
  {
   "cell_type": "code",
   "execution_count": null,
   "metadata": {},
   "outputs": [],
   "source": []
  }
 ],
 "metadata": {
  "kernelspec": {
   "display_name": "Python 3",
   "language": "python",
   "name": "python3"
  },
  "language_info": {
   "codemirror_mode": {
    "name": "ipython",
    "version": 3
   },
   "file_extension": ".py",
   "mimetype": "text/x-python",
   "name": "python",
   "nbconvert_exporter": "python",
   "pygments_lexer": "ipython3",
   "version": "3.8.3"
  }
 },
 "nbformat": 4,
 "nbformat_minor": 4
}
