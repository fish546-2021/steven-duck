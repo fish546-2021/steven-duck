{
 "cells": [
  {
   "cell_type": "markdown",
   "metadata": {},
   "source": [
    "# FASTQC"
   ]
  },
  {
   "cell_type": "code",
   "execution_count": 1,
   "metadata": {},
   "outputs": [
    {
     "name": "stdout",
     "output_type": "stream",
     "text": [
      "\u001b[34mConfiguration\u001b[m\u001b[m     LICENSE_JHDF5.txt cisd-jhdf5.jar    \u001b[34morg\u001b[m\u001b[m\n",
      "\u001b[34mHelp\u001b[m\u001b[m              README.md         fastqc            run_fastqc.bat\n",
      "INSTALL.txt       README.txt        fastqc_icon.ico   sam-1.103.jar\n",
      "LICENSE           RELEASE_NOTES.txt jbzip2-0.9.jar    \u001b[34muk\u001b[m\u001b[m\n",
      "LICENSE.txt       \u001b[34mTemplates\u001b[m\u001b[m         \u001b[34mnet\u001b[m\u001b[m\n"
     ]
    }
   ],
   "source": [
    "!ls /Applications/bioinfo/FastQC"
   ]
  },
  {
   "cell_type": "code",
   "execution_count": 4,
   "metadata": {},
   "outputs": [
    {
     "name": "stdout",
     "output_type": "stream",
     "text": [
      "zsh:1: permission denied: /Applications/bioinfo/FastQC/fastQC\n"
     ]
    }
   ],
   "source": [
    "!/Applications/bioinfo/FastQC/fastQC"
   ]
  },
  {
   "cell_type": "code",
   "execution_count": 5,
   "metadata": {},
   "outputs": [],
   "source": [
    "!chmod u+x /Applications/bioinfo/FastQC/fastQC"
   ]
  },
  {
   "cell_type": "code",
   "execution_count": 10,
   "metadata": {},
   "outputs": [],
   "source": [
    "mkdir ../analyses/fastqc-outS2/"
   ]
  },
  {
   "cell_type": "code",
   "execution_count": 12,
   "metadata": {},
   "outputs": [
    {
     "name": "stdout",
     "output_type": "stream",
     "text": [
      "Started analysis of 19_7_S7_L001_R2_001.fastq.gz\n",
      "Approx 5% complete for 19_7_S7_L001_R2_001.fastq.gz\n",
      "Approx 10% complete for 19_7_S7_L001_R2_001.fastq.gz\n",
      "Approx 15% complete for 19_7_S7_L001_R2_001.fastq.gz\n",
      "Approx 20% complete for 19_7_S7_L001_R2_001.fastq.gz\n",
      "Approx 25% complete for 19_7_S7_L001_R2_001.fastq.gz\n",
      "Approx 30% complete for 19_7_S7_L001_R2_001.fastq.gz\n",
      "Approx 35% complete for 19_7_S7_L001_R2_001.fastq.gz\n",
      "Approx 40% complete for 19_7_S7_L001_R2_001.fastq.gz\n",
      "Approx 45% complete for 19_7_S7_L001_R2_001.fastq.gz\n",
      "Approx 50% complete for 19_7_S7_L001_R2_001.fastq.gz\n",
      "Approx 55% complete for 19_7_S7_L001_R2_001.fastq.gz\n",
      "Approx 60% complete for 19_7_S7_L001_R2_001.fastq.gz\n",
      "Approx 65% complete for 19_7_S7_L001_R2_001.fastq.gz\n",
      "Approx 70% complete for 19_7_S7_L001_R2_001.fastq.gz\n",
      "Approx 75% complete for 19_7_S7_L001_R2_001.fastq.gz\n",
      "Approx 80% complete for 19_7_S7_L001_R2_001.fastq.gz\n",
      "Approx 85% complete for 19_7_S7_L001_R2_001.fastq.gz\n",
      "Approx 90% complete for 19_7_S7_L001_R2_001.fastq.gz\n",
      "Approx 95% complete for 19_7_S7_L001_R2_001.fastq.gz\n",
      "Analysis complete for 19_7_S7_L001_R2_001.fastq.gz\n"
     ]
    }
   ],
   "source": [
    "!/Applications/bioinfo/FastQC/fastQC \\\n",
    "/Users/sr320/Documents/GitHub/FROGER/data/bs-method-comparison/19_7_S7_L001_R2_001.fastq.gz \\\n",
    "-o ../analyses/fastqc-outS2/"
   ]
  },
  {
   "cell_type": "code",
   "execution_count": 13,
   "metadata": {},
   "outputs": [
    {
     "name": "stdout",
     "output_type": "stream",
     "text": [
      "19_7_S7_L001_R2_001_fastqc.html 19_7_S7_L001_R2_001_fastqc.zip\n"
     ]
    }
   ],
   "source": [
    "!ls ../analyses/fastqc-outS2/"
   ]
  },
  {
   "cell_type": "code",
   "execution_count": null,
   "metadata": {},
   "outputs": [],
   "source": []
  }
 ],
 "metadata": {
  "kernelspec": {
   "display_name": "Python 3",
   "language": "python",
   "name": "python3"
  },
  "language_info": {
   "codemirror_mode": {
    "name": "ipython",
    "version": 3
   },
   "file_extension": ".py",
   "mimetype": "text/x-python",
   "name": "python",
   "nbconvert_exporter": "python",
   "pygments_lexer": "ipython3",
   "version": "3.8.3"
  }
 },
 "nbformat": 4,
 "nbformat_minor": 4
}
