{
 "cells": [
  {
   "cell_type": "code",
   "execution_count": 1,
   "metadata": {},
   "outputs": [
    {
     "name": "stdout",
     "output_type": "stream",
     "text": [
      "/Users/sr320/Documents/GitHub/steven-duck/code\n"
     ]
    }
   ],
   "source": [
    "!pwd"
   ]
  },
  {
   "cell_type": "code",
   "execution_count": 2,
   "metadata": {},
   "outputs": [
    {
     "name": "stdout",
     "output_type": "stream",
     "text": [
      "01-blast.ipynb                 13-Combining-annotations.ipynb\n",
      "02-Adding-annotations.ipynb    14-joining-annotations.Rmd\n",
      "10-Cgigas-full-annot.ipynb     50-FastQC.ipynb\n",
      "11-Cgigas-worms.ipynb          60-crab-RNAseq.ipynb\n",
      "12-Cigas-flys.ipynb\n"
     ]
    }
   ],
   "source": [
    "!ls"
   ]
  },
  {
   "cell_type": "markdown",
   "metadata": {},
   "source": [
    "# Looking at crab data"
   ]
  },
  {
   "cell_type": "code",
   "execution_count": 7,
   "metadata": {},
   "outputs": [
    {
     "name": "stdout",
     "output_type": "stream",
     "text": [
      "  % Total    % Received % Xferd  Average Speed   Time    Time     Time  Current\n",
      "                                 Dload  Upload   Total   Spent    Left  Speed\n",
      "100 1295M  100 1295M    0     0  1219k      0  0:18:07  0:18:07 --:--:--  841k1295M    2 38.6M    0     0  1659k      0  0:13:19  0:00:23  0:12:56 1889k  0:13:01  0:00:37  0:12:24 1595k   0     0  1635k      0  0:13:31  0:01:13  0:12:18 1502k4k      0  0:13:17  0:01:53  0:11:24 1746k 1295M   18  235M    0     0  1664k      0  0:13:17  0:02:24  0:10:53 2052k 1665k      0  0:13:16  0:02:26  0:10:50 1846k630k      0  0:13:33  0:03:16  0:10:17 1920k0     0  1647k      0  0:13:25  0:03:23  0:10:02 2124k51k      0  0:13:23  0:03:26  0:09:57 2034k 0  1689k      0  0:13:05  0:04:21  0:08:44 1921k      0  0:13:19  0:04:27  0:08:52  253k      0  0:13:45  0:05:02  0:08:43 1268k  0  0:14:27  0:05:57  0:08:30  890k 45  594M    0     0  1467k      0  0:15:04  0:06:54  0:08:10  556k   0  0:15:09  0:07:03  0:08:06 1145k2  0:07:22  0:08:00 1027k:07:56 1284k  0  0:15:36  0:07:40  0:07:56  706kk      0  0:16:09  0:08:52  0:07:17 1433k0:07:02  978k 0:16:35  0:09:46  0:06:49  777k    0  0:16:39  0:09:54  0:06:45  899k 0:17:17  0:11:53  0:05:24 1069k17:20  0:12:04  0:05:16  862k 0  1273k      0  0:17:21  0:12:08  0:05:13  858k67k      0  0:17:27  0:12:22  0:05:05  860k1259k      0  0:17:33  0:12:49  0:04:44  979k 1295M   75  974M    0     0  1257k      0  0:17:35  0:13:13  0:04:22 1276kM    0     0  1244k      0  0:17:46  0:14:13  0:03:33 1434k1240k      0  0:17:49  0:16:09  0:01:40  900k0:17:56  0:16:22  0:01:34  416k1225k      0  0:18:02  0:17:38  0:00:24 1007k:06  0:17:58  0:00:08 1117k\n"
     ]
    }
   ],
   "source": [
    "!curl http://owl.fish.washington.edu/nightingales/C_bairdi/329774_S1_L001_R1_001.fastq.gz > ../data/329774_S1_L001_R1_001.fastq.gz"
   ]
  },
  {
   "cell_type": "code",
   "execution_count": null,
   "metadata": {},
   "outputs": [],
   "source": []
  }
 ],
 "metadata": {
  "kernelspec": {
   "display_name": "Python 3",
   "language": "python",
   "name": "python3"
  },
  "language_info": {
   "codemirror_mode": {
    "name": "ipython",
    "version": 3
   },
   "file_extension": ".py",
   "mimetype": "text/x-python",
   "name": "python",
   "nbconvert_exporter": "python",
   "pygments_lexer": "ipython3",
   "version": "3.8.3"
  }
 },
 "nbformat": 4,
 "nbformat_minor": 4
}
