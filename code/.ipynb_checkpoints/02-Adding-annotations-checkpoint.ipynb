{
 "cells": [
  {
   "cell_type": "markdown",
   "metadata": {},
   "source": [
    "# Taking blast output and adding information"
   ]
  },
  {
   "cell_type": "code",
   "execution_count": 1,
   "metadata": {},
   "outputs": [
    {
     "name": "stdout",
     "output_type": "stream",
     "text": [
      "Ab_4-uniprot_blastx.tab\n"
     ]
    }
   ],
   "source": [
    "!ls ../analyses/"
   ]
  },
  {
   "cell_type": "code",
   "execution_count": 2,
   "metadata": {},
   "outputs": [
    {
     "name": "stdout",
     "output_type": "stream",
     "text": [
      "solid0078_20110412_FRAG_BC_WHITE_WHITE_F3_QV_SE_trimmed_contig_3\tsp|O42248|GBLP_DANRE\t82.456\t171\t30\t0\t1\t513\t35\t205\t2.77e-103\t301\n",
      "solid0078_20110412_FRAG_BC_WHITE_WHITE_F3_QV_SE_trimmed_contig_5\tsp|Q08013|SSRG_RAT\t75.385\t65\t16\t0\t3\t197\t121\t185\t1.38e-28\t104\n",
      "solid0078_20110412_FRAG_BC_WHITE_WHITE_F3_QV_SE_trimmed_contig_6\tsp|P12234|MPCP_BOVIN\t76.623\t77\t18\t0\t2\t232\t286\t362\t7.19e-24\t98.6\n",
      "solid0078_20110412_FRAG_BC_WHITE_WHITE_F3_QV_SE_trimmed_contig_9\tsp|Q41629|ADT1_WHEAT\t82.258\t62\t11\t0\t3\t188\t170\t231\t5.98e-28\t104\n",
      "solid0078_20110412_FRAG_BC_WHITE_WHITE_F3_QV_SE_trimmed_contig_13\tsp|Q32NG4|GALD1_XENLA\t54.444\t90\t40\t1\t1\t270\t140\t228\t1.49e-28\t106\n",
      "solid0078_20110412_FRAG_BC_WHITE_WHITE_F3_QV_SE_trimmed_contig_23\tsp|Q9GNE2|RL23_AEDAE\t97.222\t72\t2\t0\t67\t282\t14\t85\t6.71e-44\t142\n",
      "solid0078_20110412_FRAG_BC_WHITE_WHITE_F3_QV_SE_trimmed_contig_31\tsp|B3EWZ9|HEPHL_ACRMI\t56.589\t129\t53\t1\t2\t379\t26\t154\t1.77e-44\t157\n",
      "solid0078_20110412_FRAG_BC_WHITE_WHITE_F3_QV_SE_trimmed_contig_31\tsp|B3EWZ9|HEPHL_ACRMI\t44.715\t123\t64\t1\t8\t364\t380\t502\t9.05e-30\t115\n",
      "solid0078_20110412_FRAG_BC_WHITE_WHITE_F3_QV_SE_trimmed_contig_31\tsp|B3EWZ9|HEPHL_ACRMI\t44.531\t128\t65\t3\t11\t376\t732\t859\t1.18e-27\t109\n",
      "solid0078_20110412_FRAG_BC_WHITE_WHITE_F3_QV_SE_trimmed_contig_32\tsp|Q641Y2|NDUS2_RAT\t88.034\t117\t14\t0\t2\t352\t334\t450\t6.33e-72\t224\n"
     ]
    }
   ],
   "source": [
    "!head ../analyses/Ab_4-uniprot_blastx.tab"
   ]
  },
  {
   "cell_type": "markdown",
   "metadata": {},
   "source": [
    "# Where can we find more info related to subject?"
   ]
  },
  {
   "cell_type": "markdown",
   "metadata": {},
   "source": [
    "![uniprot](http://gannet.fish.washington.edu/seashell/snaps/reviewedyes_in_UniProtKB_2021-01-20_07-27-01.png)"
   ]
  },
  {
   "cell_type": "markdown",
   "metadata": {},
   "source": [
    "![selecting](http://gannet.fish.washington.edu/seashell/snaps/Screen_Capture_on_2021-01-20_at_07-29-27.gif)"
   ]
  },
  {
   "cell_type": "code",
   "execution_count": 4,
   "metadata": {},
   "outputs": [],
   "source": [
    "!gunzip -k ../data/uniprot-reviewed_yes.tab.gz"
   ]
  },
  {
   "cell_type": "code",
   "execution_count": 5,
   "metadata": {},
   "outputs": [
    {
     "name": "stdout",
     "output_type": "stream",
     "text": [
      "Entry\tEntry name\tStatus\tProtein names\tGene names\tOrganism\tLength\tGene ontology (biological process)\n",
      "P37256\tPSBT_CHLRE\treviewed\tPhotosystem II reaction center protein T (PSII-T)\tpsbT ycf8\tChlamydomonas reinhardtii (Chlamydomonas smithii)\t31\tphotosynthesis [GO:0015979]\n",
      "Q1RHU4\tPYRG_RICBR\treviewed\tCTP synthase (EC 6.3.4.2) (Cytidine 5'-triphosphate synthase) (Cytidine triphosphate synthetase) (CTP synthetase) (CTPS) (UTP--ammonia ligase)\tpyrG RBE_0989\tRickettsia bellii (strain RML369-C)\t540\t'de novo' CTP biosynthetic process [GO:0044210]; glutamine metabolic process [GO:0006541]\n",
      "Q46GQ4\tPYRH_PROMT\treviewed\tUridylate kinase (UK) (EC 2.7.4.22) (Uridine monophosphate kinase) (UMP kinase) (UMPK)\tpyrH PMN2A_1854\tProchlorococcus marinus (strain NATL2A)\t237\t'de novo' CTP biosynthetic process [GO:0044210]\n",
      "Q4WAZ9\tPSOA_ASPFU\treviewed\tPKS-NRPS hybrid synthetase psoA (EC 2.3.1.-) (EC 6.3.2.-) (Nonribosomal peptide synthetase 14) (NRPS14) (Pseurotin biosynthesis protein A)\tNRPS14 pesO AFUA_8G00540\tNeosartorya fumigata (strain ATCC MYA-4609 / Af293 / CBS 101355 / FGSC A1100) (Aspergillus fumigatus)\t4007\tfatty acid biosynthetic process [GO:0006633]; nonribosomal peptide biosynthetic process [GO:0019184]; pseurotin A biosynthetic process [GO:1900790]; secondary metabolic process [GO:0019748]; secondary metabolite biosynthetic process [GO:0044550]\n",
      "P08938\tPURP_CHICK\treviewed\tPurpurin\t\tGallus gallus (Chicken)\t196\t\n",
      "A7MQG0\tPYRB_CROS8\treviewed\tAspartate carbamoyltransferase (EC 2.1.3.2) (Aspartate transcarbamylase) (ATCase)\tpyrB ESA_03481\tCronobacter sakazakii (strain ATCC BAA-894) (Enterobacter sakazakii)\t311\t'de novo' pyrimidine nucleobase biosynthetic process [GO:0006207]; 'de novo' UMP biosynthetic process [GO:0044205]; cellular amino acid metabolic process [GO:0006520]\n",
      "Q7CNB0\tPYRC_STRP8\treviewed\tDihydroorotase (DHOase) (EC 3.5.2.3)\tpyrC spyM18_0965\tStreptococcus pyogenes serotype M18 (strain MGAS8232)\t422\t'de novo' UMP biosynthetic process [GO:0044205]\n",
      "Q5P6I4\tPYRB_AROAE\treviewed\tAspartate carbamoyltransferase (EC 2.1.3.2) (Aspartate transcarbamylase) (ATCase)\tpyrB AZOSEA09520 ebA1759\tAromatoleum aromaticum (strain EbN1) (Azoarcus sp. (strain EbN1))\t323\t'de novo' pyrimidine nucleobase biosynthetic process [GO:0006207]; 'de novo' UMP biosynthetic process [GO:0044205]; cellular amino acid metabolic process [GO:0006520]\n",
      "Q7MLX2\tPYRF_VIBVY\treviewed\tOrotidine 5'-phosphate decarboxylase (EC 4.1.1.23) (OMP decarboxylase) (OMPDCase) (OMPdecase)\tpyrF VV1304\tVibrio vulnificus (strain YJ016)\t232\t'de novo' pyrimidine nucleobase biosynthetic process [GO:0006207]; 'de novo' UMP biosynthetic process [GO:0044205]\n"
     ]
    }
   ],
   "source": [
    "!head ../data/uniprot-reviewed_yes.tab"
   ]
  },
  {
   "cell_type": "markdown",
   "metadata": {},
   "source": [
    "# Joining two tables"
   ]
  },
  {
   "cell_type": "code",
   "execution_count": 6,
   "metadata": {},
   "outputs": [],
   "source": [
    "!sort ../data/uniprot-reviewed_yes.tab > ../data/uniprot-reviewed_yes.sorted"
   ]
  },
  {
   "cell_type": "code",
   "execution_count": 7,
   "metadata": {},
   "outputs": [],
   "source": [
    "!tr '|' '\\t' < ../analyses/Ab_4-uniprot_blastx.tab \\\n",
    "| sed 's/solid0078_20110412_FRAG_BC_WHITE_WHITE_F3_QV_SE_trimmed_/Ab_/g' \\\n",
    "| awk  -F $'\\t' 'BEGIN {OFS = FS} {print $3, $1, $13}' \\\n",
    "| sort > ../analyses/Ab_4-uniprot_blastx.sorted"
   ]
  },
  {
   "cell_type": "code",
   "execution_count": 8,
   "metadata": {},
   "outputs": [],
   "source": [
    "!join -1 1 -2 1 -t $'\\t' \\\n",
    "../analyses/Ab_4-uniprot_blastx.sorted \\\n",
    "../data/uniprot-reviewed_yes.sorted \\\n",
    "> ../analyses/Ab_blast-annot.tab"
   ]
  },
  {
   "cell_type": "code",
   "execution_count": 9,
   "metadata": {},
   "outputs": [
    {
     "name": "stdout",
     "output_type": "stream",
     "text": [
      "A0A1L8EV45\tAb_contig_4475\t2.44e-61\tARP3B_XENLA\treviewed\tActin-related protein 3-B\tactr3-b XELAEV_18044311mg\tXenopus laevis (African clawed frog)\t418\tArp2/3 complex-mediated actin nucleation [GO:0034314]\n",
      "A0A1L8EXB5\tAb_contig_2153\t3.51e-51\tAR1AB_XENLA\treviewed\tActin-related protein 2/3 complex subunit 1A-B\tarpc1a-b XELAEV_18045070mg\tXenopus laevis (African clawed frog)\t370\tArp2/3 complex-mediated actin nucleation [GO:0034314]\n",
      "A0JP85\tAb_contig_5332\t2.27e-25\tCNOT1_XENTR\treviewed\tCCR4-NOT transcription complex subunit 1 (CCR4-associated factor 1)\tcnot1\tXenopus tropicalis (Western clawed frog) (Silurana tropicalis)\t2388\tgene silencing by RNA [GO:0031047]; negative regulation of intracellular estrogen receptor signaling pathway [GO:0033147]; negative regulation of retinoic acid receptor signaling pathway [GO:0048387]; negative regulation of transcription by RNA polymerase II [GO:0000122]; negative regulation of translation [GO:0017148]; nuclear-transcribed mRNA catabolic process, deadenylation-dependent decay [GO:0000288]; positive regulation of cytoplasmic mRNA processing body assembly [GO:0010606]; positive regulation of nuclear-transcribed mRNA catabolic process, deadenylation-dependent decay [GO:1900153]; positive regulation of nuclear-transcribed mRNA poly(A) tail shortening [GO:0060213]\n",
      "A0MCU0\tAb_contig_2353\t1.24e-26\tCYB_PRICU\treviewed\tCytochrome b (Complex III subunit 3) (Complex III subunit III) (Cytochrome b-c1 complex subunit 3) (Ubiquinol-cytochrome-c reductase complex cytochrome b subunit)\tmt:Cyt-b Cob cytb\tPriapulus caudatus (Priapulid worm)\t377\trespiratory electron transport chain [GO:0022904]\n"
     ]
    }
   ],
   "source": [
    "!head -4 ../analyses/Ab_blast-annot.tab"
   ]
  },
  {
   "cell_type": "markdown",
   "metadata": {},
   "source": [
    "## How many genes involved in reproduction?"
   ]
  },
  {
   "cell_type": "code",
   "execution_count": 10,
   "metadata": {},
   "outputs": [
    {
     "name": "stdout",
     "output_type": "stream",
     "text": [
      "P48376\tAb_contig_1683\t7.04e-42\tCOQ7_CAEEL\treviewed\t5-demethoxyubiquinone hydroxylase, mitochondrial (DMQ hydroxylase) (EC 1.14.99.60) (Clock abnormal protein 1) (Protein clk-1) (Ubiquinone biosynthesis monooxygenase COQ7)\tclk-1 ZC395.2\tCaenorhabditis elegans\t187\tadult behavior [GO:0030534]; cellular respiration [GO:0045333]; determination of adult lifespan [GO:0008340]; negative regulation of gene expression [GO:0010629]; negative regulation of protein phosphorylation [GO:0001933]; negative regulation of transcription by RNA polymerase II [GO:0000122]; oxidative phosphorylation [GO:0006119]; positive regulation of behavior [GO:0048520]; positive regulation of developmental process [GO:0051094]; positive regulation of gene expression [GO:0010628]; positive regulation of growth rate [GO:0040010]; positive regulation of nematode larval development [GO:0061063]; positive regulation of protein oxidation [GO:1904808]; positive regulation of protein phosphorylation [GO:0001934]; positive regulation of transcription by RNA polymerase II [GO:0045944]; regulation of gene expression [GO:0010468]; regulation of reactive oxygen species metabolic process [GO:2000377]; \u001b[01;31m\u001b[Krepro\u001b[m\u001b[Kduction [GO:0000003]; response to drug [GO:0042493]; ubiquinone biosynthetic process [GO:0006744]\n",
      "Q54TR1\tAb_contig_4676\t4.41e-36\tCFAD_DICDI\treviewed\tCounting factor associated protein D\tcfaD DDB_G0281605\tDictyostelium discoideum (Slime mold)\t531\timmune response [GO:0006955]; negative regulation of asexual \u001b[01;31m\u001b[Krepro\u001b[m\u001b[Kduction [GO:1903665]; positive regulation of chemorepellent activity [GO:1903669]; protein localization to plasma membrane [GO:0072659]; proteolysis involved in cellular protein catabolic process [GO:0051603]; sorocarp morphogenesis [GO:0031288]; sporulation resulting in formation of a cellular spore [GO:0030435]\n"
     ]
    }
   ],
   "source": [
    "!grep \"repro\" --color ../analyses/Ab_blast-annot.tab"
   ]
  },
  {
   "cell_type": "code",
   "execution_count": 11,
   "metadata": {},
   "outputs": [
    {
     "name": "stdout",
     "output_type": "stream",
     "text": [
      "A1A547\tAb_contig_2627\t6.91e-24\tPGRP3_MOUSE\treviewed\tPeptidoglycan recognition protein 3 (Peptidoglycan recognition protein I-alpha) (PGLYRPIalpha) (PGRP-I-alpha) (Peptidoglycan recognition protein intermediate alpha)\tPglyrp3 Gm420 Pgrpia\tMus musculus (Mouse)\t347\tantimicrobial humoral \u001b[01;31m\u001b[Kimmune\u001b[m\u001b[K response mediated by antimicrobial peptide [GO:0061844]; defense response to Gram-positive bacterium [GO:0050830]; detection of bacterium [GO:0016045]; growth of symbiont in host [GO:0044117]; innate \u001b[01;31m\u001b[Kimmune\u001b[m\u001b[K response [GO:0045087]; killing of cells of other organism [GO:0031640]; negative regulation of interferon-gamma production [GO:0032689]; negative regulation of natural killer cell differentiation involved in \u001b[01;31m\u001b[Kimmune\u001b[m\u001b[K response [GO:0032827]; peptidoglycan catabolic process [GO:0009253]\n",
      "F1Q8W0\tAb_contig_2611\t2.85e-55\tCATIN_DANRE\treviewed\tCactin (zCactin)\tcactin si:dkey-158a20.4 zgc:158620\tDanio rerio (Zebrafish) (Brachydanio rerio)\t835\tanterior/posterior axis specification, embryo [GO:0008595]; eye development [GO:0001654]; innate \u001b[01;31m\u001b[Kimmune\u001b[m\u001b[K response [GO:0045087]; mRNA cis splicing, via spliceosome [GO:0045292]; negative regulation of innate \u001b[01;31m\u001b[Kimmune\u001b[m\u001b[K response [GO:0045824]; nervous system development [GO:0007399]; neural retina development [GO:0003407]; positive regulation of embryonic development [GO:0040019]; regulation of gene expression [GO:0010468]\n",
      "O60911\tAb_contig_3214\t5.78e-45\tCATL2_HUMAN\treviewed\tCathepsin L2 (EC 3.4.22.43) (Cathepsin U) (Cathepsin V)\tCTSV CATL2 CTSL2 CTSU UNQ268/PRO305\tHomo sapiens (Human)\t334\tantigen processing and presentation of exogenous peptide antigen via MHC class II [GO:0019886]; autophagic cell death [GO:0048102]; cellular response to starvation [GO:0009267]; decidualization [GO:0046697]; extracellular matrix disassembly [GO:0022617]; \u001b[01;31m\u001b[Kimmune\u001b[m\u001b[K response [GO:0006955]; multicellular organism aging [GO:0010259]; nerve development [GO:0021675]; proteolysis involved in cellular protein catabolic process [GO:0051603]; regulation of keratinocyte differentiation [GO:0045616]; response to glucocorticoid [GO:0051384]; response to glucose [GO:0009749]; response to gonadotropin [GO:0034698]; response to odorant [GO:1990834]; Sertoli cell differentiation [GO:0060008]; spermatogenesis [GO:0007283]\n",
      "O75594\tAb_contig_350\t8.38e-48\tPGRP1_HUMAN\treviewed\tPeptidoglycan recognition protein 1 (Peptidoglycan recognition protein short) (PGRP-S)\tPGLYRP1 PGLYRP PGRP TNFSF3L SBBI68 UNQ639/PRO1269\tHomo sapiens (Human)\t196\tantimicrobial humoral \u001b[01;31m\u001b[Kimmune\u001b[m\u001b[K response mediated by antimicrobial peptide [GO:0061844]; antimicrobial humoral response [GO:0019730]; defense response to Gram-positive bacterium [GO:0050830]; detection of bacterium [GO:0016045]; growth of symbiont in host [GO:0044117]; innate \u001b[01;31m\u001b[Kimmune\u001b[m\u001b[K response [GO:0045087]; killing of cells of other organism [GO:0031640]; negative regulation of inflammatory response [GO:0050728]; negative regulation of interferon-gamma production [GO:0032689]; negative regulation of natural killer cell differentiation involved in \u001b[01;31m\u001b[Kimmune\u001b[m\u001b[K response [GO:0032827]; neutrophil degranulation [GO:0043312]; peptidoglycan catabolic process [GO:0009253]\n",
      "P09648\tAb_contig_4348\t1.04e-46\tCATL1_CHICK\treviewed\tProcathepsin L (EC 3.4.22.15) (Cathepsin L1) [Cleaved into: Cathepsin L heavy chain; Cathepsin L light chain; Cathepsin L] (Fragments)\tCTSL CTSL1\tGallus gallus (Chicken)\t218\t\u001b[01;31m\u001b[Kimmune\u001b[m\u001b[K response [GO:0006955]; protein autoprocessing [GO:0016540]; proteolysis involved in cellular protein catabolic process [GO:0051603]; zymogen activation [GO:0031638]\n",
      "P09648\tAb_contig_4989\t3.91e-27\tCATL1_CHICK\treviewed\tProcathepsin L (EC 3.4.22.15) (Cathepsin L1) [Cleaved into: Cathepsin L heavy chain; Cathepsin L light chain; Cathepsin L] (Fragments)\tCTSL CTSL1\tGallus gallus (Chicken)\t218\t\u001b[01;31m\u001b[Kimmune\u001b[m\u001b[K response [GO:0006955]; protein autoprocessing [GO:0016540]; proteolysis involved in cellular protein catabolic process [GO:0051603]; zymogen activation [GO:0031638]\n",
      "P18420\tAb_contig_5160\t1.30e-45\tPSA1_RAT\treviewed\tProteasome subunit alpha type-1 (Macropain subunit C2) (Multicatalytic endopeptidase complex subunit C2) (Proteasome component C2) (Proteasome nu chain)\tPsma1\tRattus norvegicus (Rat)\t263\t\u001b[01;31m\u001b[Kimmune\u001b[m\u001b[K system process [GO:0002376]; negative regulation of inflammatory response to antigenic stimulus [GO:0002862]; proteasomal protein catabolic process [GO:0010498]; proteasomal ubiquitin-independent protein catabolic process [GO:0010499]; proteasome-mediated ubiquitin-dependent protein catabolic process [GO:0043161]\n",
      "P25773\tAb_contig_2599\t7.61e-22\tCATL1_FELCA\treviewed\tProcathepsin L (EC 3.4.22.15) (Cathepsin L1) (Progesterone-dependent protein) (PDP) [Cleaved into: Cathepsin L; Cathepsin L heavy chain; Cathepsin L light chain]\tCTSL CTSL1\tFelis catus (Cat) (Felis silvestris catus)\t332\tantigen processing and presentation of peptide antigen [GO:0048002]; CD4-positive, alpha-beta T cell lineage commitment [GO:0043373]; collagen catabolic process [GO:0030574]; elastin catabolic process [GO:0060309]; enkephalin processing [GO:0034230]; \u001b[01;31m\u001b[Kimmune\u001b[m\u001b[K response [GO:0006955]; protein autoprocessing [GO:0016540]; proteolysis involved in cellular protein catabolic process [GO:0051603]; zymogen activation [GO:0031638]\n",
      "P35232\tAb_contig_3643\t4.74e-48\tPHB_HUMAN\treviewed\tProhibitin\tPHB PHB1\tHomo sapiens (Human)\t272\tactivation of phospholipase C activity [GO:0007202]; activation of protein kinase C activity [GO:1990051]; animal organ regeneration [GO:0031100]; antiviral innate \u001b[01;31m\u001b[Kimmune\u001b[m\u001b[K response [GO:0140374]; B cell activation [GO:0042113]; CD40 signaling pathway [GO:0023035]; cellular response to interleukin-6 [GO:0071354]; DNA biosynthetic process [GO:0071897]; histone deacetylation [GO:0016575]; immunoglobulin production [GO:0002377]; interleukin-17 production [GO:0032620]; mitochondrial calcium ion transmembrane transport [GO:0006851]; mitochondrion organization [GO:0007005]; modulation by host of viral RNA genome replication [GO:0044830]; negative regulation of androgen receptor signaling pathway [GO:0060766]; negative regulation of apoptotic process [GO:0043066]; negative regulation of cell growth [GO:0030308]; negative regulation of cell population proliferation [GO:0008285]; negative regulation of ERK1 and ERK2 cascade [GO:0070373]; negative regulation of glucocorticoid receptor signaling pathway [GO:2000323]; negative regulation of protein catabolic process [GO:0042177]; negative regulation of transcription, DNA-templated [GO:0045892]; negative regulation of transcription by competitive promoter binding [GO:0010944]; negative regulation of transcription by RNA polymerase II [GO:0000122]; osteoblast differentiation [GO:0001649]; ovarian follicle atresia [GO:0001552]; ovarian follicle development [GO:0001541]; positive regulation of cell death [GO:0010942]; positive regulation of complement activation [GO:0045917]; positive regulation of ERK1 and ERK2 cascade [GO:0070374]; positive regulation of gene expression [GO:0010628]; positive regulation of G protein-coupled receptor signaling pathway [GO:0045745]; positive regulation of NIK/NF-kappaB signaling [GO:1901224]; positive regulation of protein kinase B signaling [GO:0051897]; positive regulation of smooth muscle cell proliferation [GO:0048661]; positive regulation of transcription, DNA-templated [GO:0045893]; progesterone receptor signaling pathway [GO:0050847]; protein stabilization [GO:0050821]; regulation of apoptotic process [GO:0042981]; regulation of transcription, DNA-templated [GO:0006355]; response to drug [GO:0042493]; response to ethanol [GO:0045471]; response to immobilization stress [GO:0035902]; response to peptide hormone [GO:0043434]; RIG-I signaling pathway [GO:0039529]; signal transduction [GO:0007165]; T-helper 17 type \u001b[01;31m\u001b[Kimmune\u001b[m\u001b[K response [GO:0072538]; viral entry into host cell [GO:0046718]\n",
      "P55097\tAb_contig_1786\t3.26e-33\tCATK_MOUSE\treviewed\tCathepsin K (EC 3.4.22.38)\tCtsk\tMus musculus (Mouse)\t329\tbone resorption [GO:0045453]; collagen catabolic process [GO:0030574]; \u001b[01;31m\u001b[Kimmune\u001b[m\u001b[K response [GO:0006955]; intramembranous ossification [GO:0001957]; negative regulation of cartilage development [GO:0061037]; proteolysis involved in cellular protein catabolic process [GO:0051603]; thyroid hormone generation [GO:0006590]\n",
      "P70665\tAb_contig_3569\t8.27e-25\tSIAE_MOUSE\treviewed\tSialate O-acetylesterase (EC 3.1.1.53) (Sialic acid-specific 9-O-acetylesterase) (Yolk sac protein 2) [Cleaved into: Sialate O-acetylesterase small subunit; Sialate O-acetylesterase large subunit]\tSiae Ysg2\tMus musculus (Mouse)\t541\tcarbohydrate metabolic process [GO:0005975]; regulation of \u001b[01;31m\u001b[Kimmune\u001b[m\u001b[K system process [GO:0002682]\n",
      "P70665\tAb_contig_599\t6.76e-54\tSIAE_MOUSE\treviewed\tSialate O-acetylesterase (EC 3.1.1.53) (Sialic acid-specific 9-O-acetylesterase) (Yolk sac protein 2) [Cleaved into: Sialate O-acetylesterase small subunit; Sialate O-acetylesterase large subunit]\tSiae Ysg2\tMus musculus (Mouse)\t541\tcarbohydrate metabolic process [GO:0005975]; regulation of \u001b[01;31m\u001b[Kimmune\u001b[m\u001b[K system process [GO:0002682]\n",
      "Q54TR1\tAb_contig_4676\t4.41e-36\tCFAD_DICDI\treviewed\tCounting factor associated protein D\tcfaD DDB_G0281605\tDictyostelium discoideum (Slime mold)\t531\t\u001b[01;31m\u001b[Kimmune\u001b[m\u001b[K response [GO:0006955]; negative regulation of asexual reproduction [GO:1903665]; positive regulation of chemorepellent activity [GO:1903669]; protein localization to plasma membrane [GO:0072659]; proteolysis involved in cellular protein catabolic process [GO:0051603]; sorocarp morphogenesis [GO:0031288]; sporulation resulting in formation of a cellular spore [GO:0030435]\n",
      "Q5R8M9\tAb_contig_164\t3.44e-26\tRS19_PONAB\treviewed\t40S ribosomal protein S19\tRPS19\tPongo abelii (Sumatran orangutan) (Pongo pygmaeus abelii)\t145\tantimicrobial humoral \u001b[01;31m\u001b[Kimmune\u001b[m\u001b[K response mediated by antimicrobial peptide [GO:0061844]; defense response to Gram-negative bacterium [GO:0050829]; erythrocyte differentiation [GO:0030218]; killing of cells of other organism [GO:0031640]; maturation of SSU-rRNA from tricistronic rRNA transcript (SSU-rRNA, 5.8S rRNA, LSU-rRNA) [GO:0000462]; monocyte chemotaxis [GO:0002548]; negative regulation of respiratory burst involved in inflammatory response [GO:0060266]; Notch signaling pathway [GO:0007219]; nucleolus organization [GO:0007000]; positive regulation of respiratory burst involved in inflammatory response [GO:0060265]; ribosomal small subunit assembly [GO:0000028]; translation [GO:0006412]\n",
      "Q5RBP9\tAb_contig_4509\t1.13e-26\tMPEG1_PONAB\treviewed\tMacrophage-expressed gene 1 protein (Macrophage gene 1 protein) (Mpg-1) (Perforin-2) (P-2)\tMPEG1\tPongo abelii (Sumatran orangutan) (Pongo pygmaeus abelii)\t716\tdefense response to Gram-negative bacterium [GO:0050829]; defense response to Gram-positive bacterium [GO:0050830]; innate \u001b[01;31m\u001b[Kimmune\u001b[m\u001b[K response [GO:0045087]; pore formation in membrane of other organism [GO:0035915]\n",
      "Q6RY07\tAb_contig_3404\t1.16e-73\tCHIA_RAT\treviewed\tAcidic mammalian chitinase (AMCase) (EC 3.2.1.14)\tChia\tRattus norvegicus (Rat)\t473\tapoptotic process [GO:0006915]; catabolism by host of symbiont cell wall chitin [GO:0052356]; chitin catabolic process [GO:0006032]; \u001b[01;31m\u001b[Kimmune\u001b[m\u001b[K system process [GO:0002376]; polysaccharide catabolic process [GO:0000272]; positive regulation of chemokine secretion [GO:0090197]; production of molecular mediator involved in inflammatory response [GO:0002532]; response to yeast [GO:0001878]\n",
      "Q8N0N3\tAb_contig_288\t9.08e-27\tBGBP_PENMO\treviewed\tBeta-1,3-glucan-binding protein (GBP)\t\tPenaeus monodon (Giant tiger prawn)\t366\tcarbohydrate metabolic process [GO:0005975]; innate \u001b[01;31m\u001b[Kimmune\u001b[m\u001b[K response [GO:0045087]\n",
      "Q8N0N3\tAb_contig_4937\t1.39e-21\tBGBP_PENMO\treviewed\tBeta-1,3-glucan-binding protein (GBP)\t\tPenaeus monodon (Giant tiger prawn)\t366\tcarbohydrate metabolic process [GO:0005975]; innate \u001b[01;31m\u001b[Kimmune\u001b[m\u001b[K response [GO:0045087]\n",
      "Q95M17\tAb_contig_637\t6.98e-68\tCHIA_BOVIN\treviewed\tAcidic mammalian chitinase (AMCase) (EC 3.2.1.14) (Chitin-binding protein b04) (CBPb04)\tCHIA\tBos taurus (Bovine)\t472\tapoptotic process [GO:0006915]; chitin catabolic process [GO:0006032]; \u001b[01;31m\u001b[Kimmune\u001b[m\u001b[K system process [GO:0002376]; polysaccharide catabolic process [GO:0000272]; positive regulation of chemokine secretion [GO:0090197]; production of molecular mediator involved in inflammatory response [GO:0002532]\n",
      "Q95M17\tAb_contig_90\t5.56e-46\tCHIA_BOVIN\treviewed\tAcidic mammalian chitinase (AMCase) (EC 3.2.1.14) (Chitin-binding protein b04) (CBPb04)\tCHIA\tBos taurus (Bovine)\t472\tapoptotic process [GO:0006915]; chitin catabolic process [GO:0006032]; \u001b[01;31m\u001b[Kimmune\u001b[m\u001b[K system process [GO:0002376]; polysaccharide catabolic process [GO:0000272]; positive regulation of chemokine secretion [GO:0090197]; production of molecular mediator involved in inflammatory response [GO:0002532]\n",
      "Q9BZP6\tAb_contig_1226\t8.63e-44\tCHIA_HUMAN\treviewed\tAcidic mammalian chitinase (AMCase) (EC 3.2.1.14) (Lung-specific protein TSA1902)\tCHIA\tHomo sapiens (Human)\t476\tapoptotic process [GO:0006915]; chitin catabolic process [GO:0006032]; chitin metabolic process [GO:0006030]; \u001b[01;31m\u001b[Kimmune\u001b[m\u001b[K system process [GO:0002376]; polysaccharide catabolic process [GO:0000272]; polysaccharide digestion [GO:0044245]; positive regulation of chemokine secretion [GO:0090197]; production of molecular mediator involved in inflammatory response [GO:0002532]\n",
      "Q9HAT2\tAb_contig_1355\t2.29e-31\tSIAE_HUMAN\treviewed\tSialate O-acetylesterase (EC 3.1.1.53) (H-Lse) (Sialic acid-specific 9-O-acetylesterase)\tSIAE YSG2\tHomo sapiens (Human)\t523\tcarbohydrate metabolic process [GO:0005975]; regulation of \u001b[01;31m\u001b[Kimmune\u001b[m\u001b[K system process [GO:0002682]\n"
     ]
    }
   ],
   "source": [
    "!grep \"immune\" --color ../analyses/Ab_blast-annot.tab"
   ]
  },
  {
   "cell_type": "code",
   "execution_count": null,
   "metadata": {},
   "outputs": [],
   "source": []
  }
 ],
 "metadata": {
  "kernelspec": {
   "display_name": "Python 3",
   "language": "python",
   "name": "python3"
  },
  "language_info": {
   "codemirror_mode": {
    "name": "ipython",
    "version": 3
   },
   "file_extension": ".py",
   "mimetype": "text/x-python",
   "name": "python",
   "nbconvert_exporter": "python",
   "pygments_lexer": "ipython3",
   "version": "3.8.3"
  }
 },
 "nbformat": 4,
 "nbformat_minor": 4
}
