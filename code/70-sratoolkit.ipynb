{
 "cells": [
  {
   "cell_type": "code",
   "execution_count": 11,
   "metadata": {},
   "outputs": [
    {
     "name": "stdout",
     "output_type": "stream",
     "text": [
      "2021-02-12T02:40:32 fasterq-dump.2.10.9 err: cmn_iter.c cmn_read_uint8_array( #8723504 ).VCursorCellDataDirect() -> RC(rcPS,rcCondition,rcWaiting,rcTimeout,rcExhausted) \n",
      "2021-02-12T02:40:32 fasterq-dump.2.10.9 err: row #8723504 : READ.len(200) != QUALITY.len(0) (F) \n",
      "2021-02-12T02:40:32 fasterq-dump.2.10.9 fatal: SIGNAL - Segmentation fault \n",
      "fasterq-dump quit with error code 1\n"
     ]
    }
   ],
   "source": [
    "!/Applications/bioinfo/sratoolkit.2.10.9-mac64/bin/fasterq-dump SRR6153278.1 \\\n",
    "-O /Users/sr320/Desktop/datadump/\n"
   ]
  },
  {
   "cell_type": "code",
   "execution_count": null,
   "metadata": {},
   "outputs": [],
   "source": []
  }
 ],
 "metadata": {
  "kernelspec": {
   "display_name": "Python 3",
   "language": "python",
   "name": "python3"
  },
  "language_info": {
   "codemirror_mode": {
    "name": "ipython",
    "version": 3
   },
   "file_extension": ".py",
   "mimetype": "text/x-python",
   "name": "python",
   "nbconvert_exporter": "python",
   "pygments_lexer": "ipython3",
   "version": "3.8.5"
  }
 },
 "nbformat": 4,
 "nbformat_minor": 4
}
