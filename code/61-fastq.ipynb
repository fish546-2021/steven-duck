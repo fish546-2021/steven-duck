{
 "cells": [
  {
   "cell_type": "code",
   "execution_count": 5,
   "metadata": {},
   "outputs": [
    {
     "name": "stdout",
     "output_type": "stream",
     "text": [
      "@A01125:63:HLYCLDRXX:2:2101:1868:1031 1:N:0:CGTCGC\n",
      "GCAATGGTTCTTAGAAGGTTTCGGCATCAGTGATGGATTTTGTTTGGACGTGTCGTCTGCC\n",
      "+\n",
      "FF::FFFFFFFFFFFFFFFF:FFFFFFFFFFFFFFFFFFFFFFFFFFFFFFFFFFFFFFFF\n",
      "@A01125:63:HLYCLDRXX:2:2101:17870:1031 1:N:0:CGTCGC\n",
      "GGGCTCGTGAAATGTTAGAATACTCAAGGGTCAGTCAAATTGTGTCAAATTCCGAGGATGTTTTCTTGTTTAGAATGTCATGTCAGTAAAGCAGACAAAT\n",
      "+\n",
      "FFFFFFFFFFFFFFFFFFFFFFFFFFFFFFFFFFFFFFFFFFFFFFFFFFFFFFFFFFFFFFFFFFFFFFF:FFFFFFFF:FFFFFFFFFFFFFFFFFFF\n",
      "@A01125:63:HLYCLDRXX:2:2101:20003:1031 1:N:0:CGTCGC\n",
      "ATTAAAAAGTTAGTTTCAAGCCTTGTACATTACACTTCTAAACAACAACC\n"
     ]
    }
   ],
   "source": [
    "!head ../data/*fastq\n"
   ]
  },
  {
   "cell_type": "markdown",
   "metadata": {},
   "source": [
    "329774 S1 L001\t\tDay 12 infected\n",
    "329774 S1 L002\t\tDay 12 infected\n",
    "329775 S2 L001\t\tDay 12 uninfected\n",
    "329775 S2 L002\t\tDay 12 uninfected\n",
    "329776 S3 L001\t\tDay 26 infected\n",
    "329776 S3 L002\t\tDay 26 infected\n",
    "329777 S4 L001\t\tDay 26 uninfected\n",
    "329777 S4 L002\t\tDay 26 uninfected\n",
    "380820_S1_L001\t\tD9_uninfected\n",
    "380820_S1_L002\t\tD9_uninfected\n",
    "380821_S2_L001\t\tD9_infected\n",
    "380821_S2_L002\t\tD9_infected"
   ]
  }
 ],
 "metadata": {
  "kernelspec": {
   "display_name": "Python 3",
   "language": "python",
   "name": "python3"
  },
  "language_info": {
   "codemirror_mode": {
    "name": "ipython",
    "version": 3
   },
   "file_extension": ".py",
   "mimetype": "text/x-python",
   "name": "python",
   "nbconvert_exporter": "python",
   "pygments_lexer": "ipython3",
   "version": "3.8.3"
  }
 },
 "nbformat": 4,
 "nbformat_minor": 4
}
