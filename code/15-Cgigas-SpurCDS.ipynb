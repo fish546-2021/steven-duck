{
 "cells": [
  {
   "cell_type": "code",
   "execution_count": 2,
   "metadata": {},
   "outputs": [
    {
     "name": "stdout",
     "output_type": "stream",
     "text": [
      "Warning: [blastn] Examining 5 or more matches is recommended\n"
     ]
    }
   ],
   "source": [
    "#setting blast program directory\n",
    "bldir = \"/Applications/bioinfo/ncbi-blast-2.11.0+/bin/\"\n",
    "\n",
    "!{bldir}blastn \\\n",
    "-task blastn \\\n",
    "-query ../data/GCF_000297895.1_oyster_v9_cds_from_genomic.fna \\\n",
    "-db ../blastdb/Spur_5_0_CDS/Spur_5_0_CDS  \\\n",
    "-out ../analyses/Cg-SpurCDS_blastn.tab \\\n",
    "-evalue 1E-05 \\\n",
    "-num_threads 1 \\\n",
    "-max_target_seqs 1 \\\n",
    "-max_hsps 1 \\\n",
    "-outfmt \"6 qaccver saccver evalue\""
   ]
  },
  {
   "cell_type": "code",
   "execution_count": null,
   "metadata": {},
   "outputs": [],
   "source": []
  }
 ],
 "metadata": {
  "kernelspec": {
   "display_name": "Python 3",
   "language": "python",
   "name": "python3"
  },
  "language_info": {
   "codemirror_mode": {
    "name": "ipython",
    "version": 3
   },
   "file_extension": ".py",
   "mimetype": "text/x-python",
   "name": "python",
   "nbconvert_exporter": "python",
   "pygments_lexer": "ipython3",
   "version": "3.8.3"
  }
 },
 "nbformat": 4,
 "nbformat_minor": 4
}
